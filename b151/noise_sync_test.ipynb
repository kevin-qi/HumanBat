{
 "cells": [
  {
   "cell_type": "code",
   "execution_count": 1,
   "id": "6f62cff4-2948-4cb2-b7ba-9b3b75b18d56",
   "metadata": {},
   "outputs": [],
   "source": [
    "%load_ext autoreload\n",
    "%autoreload 2"
   ]
  },
  {
   "cell_type": "code",
   "execution_count": 2,
   "id": "4ae565c5-90de-4c71-8983-0a44803484c9",
   "metadata": {},
   "outputs": [],
   "source": [
    "import numpy as np\n",
    "import matplotlib.pyplot as plt\n",
    "import os\n",
    "from pathlib import Path\n",
    "import IPython.display as ipd\n",
    "import h5py\n",
    "import scipy.signal\n",
    "import re\n",
    "import cv2\n",
    "import scipy.io\n",
    "import subprocess\n",
    "import glob\n",
    "import matlab.engine\n",
    "import io"
   ]
  },
  {
   "cell_type": "code",
   "execution_count": 6,
   "id": "b247d979-6132-4e88-9403-2cf3219f629e",
   "metadata": {},
   "outputs": [],
   "source": [
    "data_path = '../data/raw/b151/211103_29837'\n",
    "extracted_ephys_path = os.path.join(data_path,'ephys', 'logger_13', 'extracted_data')\n",
    "cameras_path = os.path.join(data_path, 'cameras')\n",
    "motu_path = os.path.join(data_path, 'motu')"
   ]
  },
  {
   "cell_type": "markdown",
   "id": "0e916026-41bf-4538-873e-f9eb9fcffb83",
   "metadata": {},
   "source": [
    "# Preprocess"
   ]
  },
  {
   "cell_type": "code",
   "execution_count": 7,
   "id": "4352a1fb-5b6a-411d-b891-2a149ad7bf6b",
   "metadata": {},
   "outputs": [],
   "source": [
    "eng = matlab.engine.start_matlab()\n",
    "out = io.StringIO()\n",
    "err = io.StringIO()"
   ]
  },
  {
   "cell_type": "code",
   "execution_count": 8,
   "id": "fbfd9ef1-c972-44ef-b9bc-f70bc4328c15",
   "metadata": {},
   "outputs": [],
   "source": [
    "LoggerDataProcessing = eng.genpath('../utils/LoggerDataProcessing')\n",
    "data_path = eng.genpath('../data')\n",
    "eng.addpath(LoggerDataProcessing, nargout=0)\n",
    "eng.addpath(data_path, nargout=0)"
   ]
  },
  {
   "cell_type": "code",
   "execution_count": 10,
   "id": "c6032705-aee4-4b87-ab33-23db1415eb9d",
   "metadata": {},
   "outputs": [
    {
     "ename": "MatlabExecutionError",
     "evalue": "\n  File C:\\Users\\kevinqi\\Desktop\\HumanBat\\utils\\LoggerDataProcessing\\extract_logger_data.m, line 371, in extract_logger_data\nIndex exceeds the number of array elements. Index must not exceed 0.\n",
     "output_type": "error",
     "traceback": [
      "\u001b[1;31m---------------------------------------------------------------------------\u001b[0m",
      "\u001b[1;31mMatlabExecutionError\u001b[0m                      Traceback (most recent call last)",
      "\u001b[1;32m~\\AppData\\Local\\Temp/ipykernel_17644/3295025448.py\u001b[0m in \u001b[0;36m<module>\u001b[1;34m\u001b[0m\n\u001b[1;32m----> 1\u001b[1;33m \u001b[0meng\u001b[0m\u001b[1;33m.\u001b[0m\u001b[0mextract_logger_data\u001b[0m\u001b[1;33m(\u001b[0m\u001b[1;34m'raw/b151/211105_29837/ephys/logger_13'\u001b[0m\u001b[1;33m,\u001b[0m\u001b[0mnargout\u001b[0m\u001b[1;33m=\u001b[0m\u001b[1;36m0\u001b[0m\u001b[1;33m,\u001b[0m\u001b[0mstdout\u001b[0m\u001b[1;33m=\u001b[0m\u001b[0mout\u001b[0m\u001b[1;33m,\u001b[0m \u001b[0mstderr\u001b[0m\u001b[1;33m=\u001b[0m\u001b[0merr\u001b[0m\u001b[1;33m)\u001b[0m\u001b[1;33m\u001b[0m\u001b[1;33m\u001b[0m\u001b[0m\n\u001b[0m",
      "\u001b[1;32m~\\miniconda3\\envs\\bathuman\\lib\\site-packages\\matlab\\engine\\matlabengine.py\u001b[0m in \u001b[0;36m__call__\u001b[1;34m(self, *args, **kwargs)\u001b[0m\n\u001b[0;32m     68\u001b[0m             \u001b[1;32mreturn\u001b[0m \u001b[0mFutureResult\u001b[0m\u001b[1;33m(\u001b[0m\u001b[0mself\u001b[0m\u001b[1;33m.\u001b[0m\u001b[0m_engine\u001b[0m\u001b[1;33m(\u001b[0m\u001b[1;33m)\u001b[0m\u001b[1;33m,\u001b[0m \u001b[0mfuture\u001b[0m\u001b[1;33m,\u001b[0m \u001b[0mnargs\u001b[0m\u001b[1;33m,\u001b[0m \u001b[0m_stdout\u001b[0m\u001b[1;33m,\u001b[0m \u001b[0m_stderr\u001b[0m\u001b[1;33m,\u001b[0m \u001b[0mfeval\u001b[0m\u001b[1;33m=\u001b[0m\u001b[1;32mTrue\u001b[0m\u001b[1;33m)\u001b[0m\u001b[1;33m\u001b[0m\u001b[1;33m\u001b[0m\u001b[0m\n\u001b[0;32m     69\u001b[0m         \u001b[1;32melse\u001b[0m\u001b[1;33m:\u001b[0m\u001b[1;33m\u001b[0m\u001b[1;33m\u001b[0m\u001b[0m\n\u001b[1;32m---> 70\u001b[1;33m             return FutureResult(self._engine(), future, nargs, _stdout,\n\u001b[0m\u001b[0;32m     71\u001b[0m                                 _stderr, feval=True).result()\n\u001b[0;32m     72\u001b[0m \u001b[1;33m\u001b[0m\u001b[0m\n",
      "\u001b[1;32m~\\miniconda3\\envs\\bathuman\\lib\\site-packages\\matlab\\engine\\futureresult.py\u001b[0m in \u001b[0;36mresult\u001b[1;34m(self, timeout)\u001b[0m\n\u001b[0;32m     65\u001b[0m                 \u001b[1;32mraise\u001b[0m \u001b[0mTypeError\u001b[0m\u001b[1;33m(\u001b[0m\u001b[0mpythonengine\u001b[0m\u001b[1;33m.\u001b[0m\u001b[0mgetMessage\u001b[0m\u001b[1;33m(\u001b[0m\u001b[1;34m'TimeoutCannotBeNegative'\u001b[0m\u001b[1;33m)\u001b[0m\u001b[1;33m)\u001b[0m\u001b[1;33m\u001b[0m\u001b[1;33m\u001b[0m\u001b[0m\n\u001b[0;32m     66\u001b[0m \u001b[1;33m\u001b[0m\u001b[0m\n\u001b[1;32m---> 67\u001b[1;33m         \u001b[1;32mreturn\u001b[0m \u001b[0mself\u001b[0m\u001b[1;33m.\u001b[0m\u001b[0m__future\u001b[0m\u001b[1;33m.\u001b[0m\u001b[0mresult\u001b[0m\u001b[1;33m(\u001b[0m\u001b[0mtimeout\u001b[0m\u001b[1;33m)\u001b[0m\u001b[1;33m\u001b[0m\u001b[1;33m\u001b[0m\u001b[0m\n\u001b[0m\u001b[0;32m     68\u001b[0m \u001b[1;33m\u001b[0m\u001b[0m\n\u001b[0;32m     69\u001b[0m     \u001b[1;32mdef\u001b[0m \u001b[0mcancel\u001b[0m\u001b[1;33m(\u001b[0m\u001b[0mself\u001b[0m\u001b[1;33m)\u001b[0m\u001b[1;33m:\u001b[0m\u001b[1;33m\u001b[0m\u001b[1;33m\u001b[0m\u001b[0m\n",
      "\u001b[1;32m~\\miniconda3\\envs\\bathuman\\lib\\site-packages\\matlab\\engine\\fevalfuture.py\u001b[0m in \u001b[0;36mresult\u001b[1;34m(self, timeout)\u001b[0m\n\u001b[0;32m     80\u001b[0m                 \u001b[1;32mraise\u001b[0m \u001b[0mTimeoutError\u001b[0m\u001b[1;33m(\u001b[0m\u001b[0mpythonengine\u001b[0m\u001b[1;33m.\u001b[0m\u001b[0mgetMessage\u001b[0m\u001b[1;33m(\u001b[0m\u001b[1;34m'MatlabFunctionTimeout'\u001b[0m\u001b[1;33m)\u001b[0m\u001b[1;33m)\u001b[0m\u001b[1;33m\u001b[0m\u001b[1;33m\u001b[0m\u001b[0m\n\u001b[0;32m     81\u001b[0m \u001b[1;33m\u001b[0m\u001b[0m\n\u001b[1;32m---> 82\u001b[1;33m             \u001b[0mself\u001b[0m\u001b[1;33m.\u001b[0m\u001b[0m_result\u001b[0m \u001b[1;33m=\u001b[0m \u001b[0mpythonengine\u001b[0m\u001b[1;33m.\u001b[0m\u001b[0mgetFEvalResult\u001b[0m\u001b[1;33m(\u001b[0m\u001b[0mself\u001b[0m\u001b[1;33m.\u001b[0m\u001b[0m_future\u001b[0m\u001b[1;33m,\u001b[0m\u001b[0mself\u001b[0m\u001b[1;33m.\u001b[0m\u001b[0m_nargout\u001b[0m\u001b[1;33m,\u001b[0m \u001b[1;32mNone\u001b[0m\u001b[1;33m,\u001b[0m \u001b[0mout\u001b[0m\u001b[1;33m=\u001b[0m\u001b[0mself\u001b[0m\u001b[1;33m.\u001b[0m\u001b[0m_out\u001b[0m\u001b[1;33m,\u001b[0m \u001b[0merr\u001b[0m\u001b[1;33m=\u001b[0m\u001b[0mself\u001b[0m\u001b[1;33m.\u001b[0m\u001b[0m_err\u001b[0m\u001b[1;33m)\u001b[0m\u001b[1;33m\u001b[0m\u001b[1;33m\u001b[0m\u001b[0m\n\u001b[0m\u001b[0;32m     83\u001b[0m             \u001b[0mself\u001b[0m\u001b[1;33m.\u001b[0m\u001b[0m_retrieved\u001b[0m \u001b[1;33m=\u001b[0m \u001b[1;32mTrue\u001b[0m\u001b[1;33m\u001b[0m\u001b[1;33m\u001b[0m\u001b[0m\n\u001b[0;32m     84\u001b[0m             \u001b[1;32mreturn\u001b[0m \u001b[0mself\u001b[0m\u001b[1;33m.\u001b[0m\u001b[0m_result\u001b[0m\u001b[1;33m\u001b[0m\u001b[1;33m\u001b[0m\u001b[0m\n",
      "\u001b[1;31mMatlabExecutionError\u001b[0m: \n  File C:\\Users\\kevinqi\\Desktop\\HumanBat\\utils\\LoggerDataProcessing\\extract_logger_data.m, line 371, in extract_logger_data\nIndex exceeds the number of array elements. Index must not exceed 0.\n"
     ]
    }
   ],
   "source": [
    "eng.extract_logger_data('raw/b151/211105_29837/ephys/logger_13',nargout=0,stdout=out, stderr=err)"
   ]
  },
  {
   "cell_type": "code",
   "execution_count": 19,
   "id": "5e33225d-89a1-4829-abd4-e8c47692f9f4",
   "metadata": {},
   "outputs": [
    {
     "data": {
      "text/plain": [
       "''"
      ]
     },
     "execution_count": 19,
     "metadata": {},
     "output_type": "execute_result"
    }
   ],
   "source": [
    "err.getvalue()"
   ]
  },
  {
   "cell_type": "markdown",
   "id": "8f9dda4d-f732-4bda-a201-83afab8eb2fa",
   "metadata": {},
   "source": [
    "# MOTU data"
   ]
  },
  {
   "cell_type": "code",
   "execution_count": 291,
   "id": "7f190f26-b5b0-4449-9d44-14e7adab59c4",
   "metadata": {},
   "outputs": [],
   "source": [
    "motu_data = []\n",
    "num_files = len(os.listdir(motu_path))\n",
    "for i in range(num_files):\n",
    "    data = np.load(os.path.join(motu_path,'audio_{}.npy'.format(i)))\n",
    "    #data_ds = scipy.signal.decimate(data, 5)\n",
    "    data_ds = data\n",
    "    motu_data.append(data_ds)\n",
    "    \n",
    "motu_data = np.hstack(motu_data)"
   ]
  },
  {
   "cell_type": "code",
   "execution_count": 292,
   "id": "ade02323-461c-43b8-a1f5-0c43568ce6b3",
   "metadata": {},
   "outputs": [
    {
     "data": {
      "text/plain": [
       "array([[ 2.9174805e-02,  3.0090332e-02,  2.9846191e-02, ...,\n",
       "         3.8391113e-02,  3.8116455e-02,  3.8269043e-02],\n",
       "       [ 1.2207031e-04, -9.1552734e-05, -3.0517578e-05, ...,\n",
       "        -3.0517578e-05,  2.4414062e-04, -1.2207031e-04],\n",
       "       [-3.0517578e-05,  3.0517578e-05, -3.0517578e-05, ...,\n",
       "        -2.0574951e-01, -2.0562744e-01, -2.0574951e-01],\n",
       "       [-3.0517578e-05, -3.0517578e-05, -3.0517578e-05, ...,\n",
       "         0.0000000e+00, -6.1035156e-05,  0.0000000e+00]], dtype=float32)"
      ]
     },
     "execution_count": 292,
     "metadata": {},
     "output_type": "execute_result"
    }
   ],
   "source": [
    "motu_data"
   ]
  },
  {
   "cell_type": "code",
   "execution_count": 293,
   "id": "73b4f0b3-3396-432c-823f-85cd9c872323",
   "metadata": {},
   "outputs": [
    {
     "data": {
      "text/plain": [
       "[<matplotlib.lines.Line2D at 0x258993598e0>]"
      ]
     },
     "execution_count": 293,
     "metadata": {},
     "output_type": "execute_result"
    },
    {
     "data": {
      "image/png": "[encoded data removed]",
      "text/plain": [
       "<Figure size 432x288 with 1 Axes>"
      ]
     },
     "metadata": {
      "needs_background": "light"
     },
     "output_type": "display_data"
    }
   ],
   "source": [
    "plt.plot(motu_data[0,:])"
   ]
  },
  {
   "cell_type": "code",
   "execution_count": 294,
   "id": "19f37f9c-bb96-4c58-80e3-ff3b3a82d421",
   "metadata": {},
   "outputs": [
    {
     "data": {
      "text/plain": [
       "[<matplotlib.lines.Line2D at 0x258b0c28970>]"
      ]
     },
     "execution_count": 294,
     "metadata": {},
     "output_type": "execute_result"
    },
    {
     "data": {
      "image/png": "[encoded data removed]",
      "text/plain": [
       "<Figure size 432x288 with 1 Axes>"
      ]
     },
     "metadata": {
      "needs_background": "light"
     },
     "output_type": "display_data"
    }
   ],
   "source": [
    "plt.plot(motu_data[1,:])"
   ]
  },
  {
   "cell_type": "code",
   "execution_count": null,
   "id": "afeab902-2534-470b-ae07-3eb3a4fed006",
   "metadata": {},
   "outputs": [],
   "source": []
  },
  {
   "cell_type": "code",
   "execution_count": 295,
   "id": "9956ef24-97cb-4fed-bec8-93682c1fe368",
   "metadata": {},
   "outputs": [
    {
     "data": {
      "text/plain": [
       "[<matplotlib.lines.Line2D at 0x258b0786bb0>]"
      ]
     },
     "execution_count": 295,
     "metadata": {},
     "output_type": "execute_result"
    },
    {
     "data": {
      "image/png": "[encoded data removed]",
      "text/plain": [
       "<Figure size 432x288 with 1 Axes>"
      ]
     },
     "metadata": {
      "needs_background": "light"
     },
     "output_type": "display_data"
    }
   ],
   "source": [
    "plt.plot(motu_data[1,:])"
   ]
  },
  {
   "cell_type": "code",
   "execution_count": 296,
   "id": "9f161b54-6ff2-4018-acad-482d9b9b6582",
   "metadata": {},
   "outputs": [
    {
     "data": {
      "text/plain": [
       "[<matplotlib.lines.Line2D at 0x258b0a413a0>]"
      ]
     },
     "execution_count": 296,
     "metadata": {},
     "output_type": "execute_result"
    },
    {
     "data": {
      "image/png": "[encoded data removed]",
      "text/plain": [
       "<Figure size 432x288 with 1 Axes>"
      ]
     },
     "metadata": {
      "needs_background": "light"
     },
     "output_type": "display_data"
    }
   ],
   "source": [
    "plt.plot(motu_data[2,3000000:40000000])"
   ]
  },
  {
   "cell_type": "code",
   "execution_count": 297,
   "id": "c389f4ef-ba22-4bf8-9d2d-9fe98a176a9f",
   "metadata": {},
   "outputs": [
    {
     "data": {
      "text/plain": [
       "[<matplotlib.lines.Line2D at 0x258b0999520>]"
      ]
     },
     "execution_count": 297,
     "metadata": {},
     "output_type": "execute_result"
    },
    {
     "data": {
      "image/png": "[encoded data removed]",
      "text/plain": [
       "<Figure size 432x288 with 1 Axes>"
      ]
     },
     "metadata": {
      "needs_background": "light"
     },
     "output_type": "display_data"
    }
   ],
   "source": [
    "plt.plot(motu_data[1,:5000000])"
   ]
  },
  {
   "cell_type": "code",
   "execution_count": 298,
   "id": "94c520e8-431d-4b2e-870e-384e2efd0d6a",
   "metadata": {},
   "outputs": [
    {
     "data": {
      "text/plain": [
       "[<matplotlib.lines.Line2D at 0x25899321b50>]"
      ]
     },
     "execution_count": 298,
     "metadata": {},
     "output_type": "execute_result"
    },
    {
     "data": {
      "image/png": "[encoded data removed]",
      "text/plain": [
       "<Figure size 432x288 with 1 Axes>"
      ]
     },
     "metadata": {
      "needs_background": "light"
     },
     "output_type": "display_data"
    }
   ],
   "source": [
    "plt.plot(motu_data[1,:5000000])"
   ]
  },
  {
   "cell_type": "code",
   "execution_count": 299,
   "id": "285eb41d-828a-4982-8f78-1da1433e9037",
   "metadata": {},
   "outputs": [
    {
     "data": {
      "text/plain": [
       "<matplotlib.collections.PathCollection at 0x258b0763af0>"
      ]
     },
     "execution_count": 299,
     "metadata": {},
     "output_type": "execute_result"
    },
    {
     "data": {
      "image/png": "[encoded data removed]",
      "text/plain": [
       "<Figure size 432x288 with 1 Axes>"
      ]
     },
     "metadata": {
      "needs_background": "light"
     },
     "output_type": "display_data"
    }
   ],
   "source": [
    "peak_x = np.array(scipy.signal.find_peaks(motu_data[1, :5000000],distance=132000, height=0.5)[0],dtype=np.uint64)\n",
    "plt.plot(motu_data[1,:5000000])\n",
    "plt.scatter(peak_x, motu_data[1,:5000000][peak_x])"
   ]
  },
  {
   "cell_type": "code",
   "execution_count": 300,
   "id": "059d3e7f-b844-4900-b755-095b8a17ab23",
   "metadata": {},
   "outputs": [],
   "source": [
    "def motu_ttl_indices(ttl_channel):\n",
    "    peak_x = np.array(scipy.signal.find_peaks(ttl_channel,distance=132000, height=0.5)[0],dtype=np.uint64)\n",
    "    return peak_x"
   ]
  },
  {
   "cell_type": "code",
   "execution_count": 301,
   "id": "b2344793-403a-4fd5-9582-924b8d9ef556",
   "metadata": {},
   "outputs": [],
   "source": [
    "motu_ttl_indices = motu_ttl_indices(motu_data[1,:])"
   ]
  },
  {
   "cell_type": "code",
   "execution_count": 405,
   "id": "d0e5ea38-47a9-4725-b86e-0e606fc6b079",
   "metadata": {},
   "outputs": [],
   "source": [
    "motu_first_ttl_index = motu_ttl_indices[0]\n",
    "motu_last_ttl_index = motu_ttl_indices[-1]"
   ]
  },
  {
   "cell_type": "code",
   "execution_count": 406,
   "id": "3244535a-0c7a-4ac0-b60f-20cd7020d4bb",
   "metadata": {},
   "outputs": [],
   "source": [
    "motu_ttl_ts_ms = (motu_ttl_indices - motu_first_ttl_index)/192"
   ]
  },
  {
   "cell_type": "code",
   "execution_count": 407,
   "id": "b23fc06e-bc3b-4549-bde0-bac4ab9fb3af",
   "metadata": {},
   "outputs": [
    {
     "data": {
      "text/plain": [
       "array([     0.        ,    999.91666667,   1999.859375  ,   2999.80208333,\n",
       "         3999.72395833,   4999.65104167,   5999.58854167,   6999.51041667,\n",
       "         7999.44270833,   8999.36458333,   9999.29166667,  10999.23958333,\n",
       "        11999.1875    ,  12999.09895833,  13999.03125   ,  14998.953125  ,\n",
       "        15998.88020833,  16998.82291667,  17998.75      ,  18998.68229167,\n",
       "        19998.61979167,  20998.55729167,  21998.46354167,  22998.41145833,\n",
       "        23998.328125  ,  24998.27604167,  25998.203125  ,  26998.125     ,\n",
       "        27998.05729167,  28997.99479167,  29997.92708333,  30997.85416667,\n",
       "        31997.78645833,  32997.70833333,  33997.65625   ,  34997.58333333,\n",
       "        35997.515625  ,  36997.44791667,  37997.375     ,  38997.29166667,\n",
       "        39997.23958333,  40997.16666667,  41997.08854167,  42997.03125   ,\n",
       "        43996.95833333,  44996.88020833,  45996.81770833,  46996.75      ,\n",
       "        47996.66666667,  48996.59895833,  49996.54166667,  50996.50520833,\n",
       "        51996.421875  ,  52996.33854167,  53996.296875  ,  54996.19270833,\n",
       "        55996.13020833,  56996.04166667,  57995.97916667,  58995.921875  ,\n",
       "        59995.84375   ,  60995.80208333,  61995.71875   ,  62995.640625  ,\n",
       "        63995.5625    ,  64995.51041667,  65995.43229167,  66995.375     ,\n",
       "        67995.30208333,  68995.234375  ,  69995.15104167,  70995.09375   ,\n",
       "        71995.02604167,  72994.97395833,  73994.88541667,  74994.80208333,\n",
       "        75994.75      ,  76994.68229167,  77994.61979167,  78994.55208333,\n",
       "        79994.47395833,  80994.390625  ,  81994.34375   ,  82994.265625  ,\n",
       "        83994.21354167,  84994.13541667,  85994.05729167,  86993.97916667,\n",
       "        87993.91666667,  88993.84895833,  89993.77604167,  90993.69270833,\n",
       "        91993.640625  ,  92993.57291667,  93993.49479167,  94993.4375    ,\n",
       "        95993.35416667,  96993.28645833,  97993.22916667,  98993.15625   ,\n",
       "        99993.08854167, 100993.02083333, 101992.953125  , 102992.88020833,\n",
       "       103992.8125    , 104992.72916667, 105992.65625   , 106992.609375  ,\n",
       "       107992.546875  , 108992.46875   , 109992.39583333, 110992.33333333,\n",
       "       111992.26041667, 112992.19270833, 113992.11979167, 114992.046875  ,\n",
       "       115991.984375  , 116991.91145833, 117991.83333333, 118991.78125   ,\n",
       "       119991.703125  , 120991.65104167, 121991.56770833, 122991.48958333,\n",
       "       123991.44791667, 124991.36458333, 125991.29166667, 126991.22916667,\n",
       "       127991.16145833, 128991.07291667, 129991.015625  , 130990.94791667,\n",
       "       131990.86458333, 132990.82291667, 133990.73958333, 134990.66666667,\n",
       "       135990.59895833, 136990.53125   , 137990.453125  , 138990.40104167,\n",
       "       139990.32291667, 140990.26041667, 141990.1875    , 142990.11979167,\n",
       "       143990.03645833, 144989.97395833, 145989.91145833, 146989.84375   ,\n",
       "       147989.78125   , 148989.703125  , 149989.625     , 150989.57291667,\n",
       "       151989.5       , 152989.43229167, 153989.36458333, 154989.29166667,\n",
       "       155989.21875   , 156989.14583333, 157989.08333333, 158989.00520833,\n",
       "       159988.93229167, 160988.875     , 161988.80729167, 162988.734375  ,\n",
       "       163988.671875  ])"
      ]
     },
     "execution_count": 407,
     "metadata": {},
     "output_type": "execute_result"
    }
   ],
   "source": [
    "motu_ttl_ts_ms"
   ]
  },
  {
   "cell_type": "code",
   "execution_count": null,
   "id": "9242f16d-cc1a-4a16-be10-ea64aaa1b138",
   "metadata": {},
   "outputs": [],
   "source": []
  },
  {
   "cell_type": "markdown",
   "id": "442a6a99-ca9a-4ede-a2a8-68449edd44c5",
   "metadata": {},
   "source": [
    "# Experiment Log Data"
   ]
  },
  {
   "cell_type": "code",
   "execution_count": 305,
   "id": "6de5ddef-a6df-4c2e-b6bc-c8fe55e0ba57",
   "metadata": {},
   "outputs": [
    {
     "data": {
      "text/plain": [
       "['cameras', 'ephys', 'motu', 'sync_test_211101_logs.txt']"
      ]
     },
     "execution_count": 305,
     "metadata": {},
     "output_type": "execute_result"
    }
   ],
   "source": [
    "os.listdir(data_path)"
   ]
  },
  {
   "cell_type": "code",
   "execution_count": 306,
   "id": "92e28e8a-ff38-4af7-af8b-d784b0795a56",
   "metadata": {},
   "outputs": [],
   "source": [
    "arduino_ttl = []\n",
    "state_name = []\n",
    "arduino_state_ms = []\n",
    "with open(os.path.join(data_path, 'sync_test_211101_logs.txt'), 'r') as f:\n",
    "    for line in f.readlines():\n",
    "        ttl_ts_matches= re.findall('(\\d*)!', line) # Match ttl timestamps\n",
    "        if(not ttl_ts_matches == []):\n",
    "            arduino_ttl += ttl_ts_matches\n",
    "        state_matches=re.search('(\\w+)_ENTER:(\\d+)|', line)\n",
    "        if(state_matches.group(1) != None):\n",
    "            state_name.append(state_matches.group(1))\n",
    "            arduino_state_ms.append(state_matches.group(2))\n",
    "arduino_ttl = np.array(arduino_ttl, dtype=np.uint64)\n",
    "arduino_state_ms = np.array(arduino_state_ms, dtype=np.uint64)-arduino_ttl[0]\n",
    "arduino_ttl = arduino_ttl - arduino_ttl[0]"
   ]
  },
  {
   "cell_type": "code",
   "execution_count": 307,
   "id": "9603e712-81e4-4685-b953-427923bb5ef5",
   "metadata": {},
   "outputs": [
    {
     "data": {
      "text/plain": [
       "array([     0,   1000,   2000,   3001,   4002,   5003,   6003,   7004,\n",
       "         8005,   9006,  10006,  11008,  12008,  13008,  14009,  15010,\n",
       "        16011,  17011,  18012,  19013,  20014,  21014,  22014,  23016,\n",
       "        24016,  25017,  26017,  27019,  28019,  29020,  30021,  31022,\n",
       "        32022,  33022,  34024,  35024,  36025,  37025,  38027,  39027,\n",
       "        40028,  41028,  42030,  43030,  44030,  45031,  46032,  47033,\n",
       "        48033,  49034,  50035,  51036,  52036,  53037,  54038,  55038,\n",
       "        56039,  57039,  58041,  59041,  60042,  61042,  62044,  63044,\n",
       "        64045,  65046,  66046,  67047,  68047,  69049,  70049,  71050,\n",
       "        72050,  73052,  74052,  75053,  76053,  77054,  78055,  79055,\n",
       "        80056,  81057,  82058,  83058,  84059,  85060,  86061,  87061,\n",
       "        88062,  89063,  90063,  91064,  92065,  93066,  94066,  95067,\n",
       "        96068,  97069,  98069,  99069, 100071, 101071, 102072, 103072,\n",
       "       104074, 105074, 106075, 107075, 108077, 109077, 110077, 111079,\n",
       "       112079, 113080, 114080, 115082, 116082, 117083, 118083, 119085,\n",
       "       120085, 121085, 122086, 123087, 124088, 125088, 126089, 127090,\n",
       "       128091, 129091, 130092, 131093, 132093, 133094, 134095, 135096,\n",
       "       136096, 137097, 138098, 139099, 140099, 141100, 142101, 143101,\n",
       "       144102, 145102, 146104, 147104, 148105, 149105, 150107, 151107,\n",
       "       152108, 153108, 154109, 155110, 156110, 157112, 158112, 159113,\n",
       "       160113, 161115, 162115, 163116, 164116], dtype=uint64)"
      ]
     },
     "execution_count": 307,
     "metadata": {},
     "output_type": "execute_result"
    }
   ],
   "source": [
    "arduino_ttl"
   ]
  },
  {
   "cell_type": "code",
   "execution_count": 308,
   "id": "658bf054-5df1-4b1d-94bc-3ef5857db806",
   "metadata": {},
   "outputs": [
    {
     "data": {
      "text/plain": [
       "<StemContainer object of 3 artists>"
      ]
     },
     "execution_count": 308,
     "metadata": {},
     "output_type": "execute_result"
    },
    {
     "data": {
      "image/png": "[encoded data removed]",
      "text/plain": [
       "<Figure size 432x288 with 1 Axes>"
      ]
     },
     "metadata": {
      "needs_background": "light"
     },
     "output_type": "display_data"
    }
   ],
   "source": [
    "plt.stem(arduino_ttl, np.ones(arduino_ttl.shape))"
   ]
  },
  {
   "cell_type": "code",
   "execution_count": 309,
   "id": "2becc08f-e974-4d03-b4ad-ef1ade929c26",
   "metadata": {},
   "outputs": [
    {
     "data": {
      "text/plain": [
       "165"
      ]
     },
     "execution_count": 309,
     "metadata": {},
     "output_type": "execute_result"
    }
   ],
   "source": [
    "len(arduino_ttl)"
   ]
  },
  {
   "cell_type": "code",
   "execution_count": 310,
   "id": "b687fb03-780e-4eed-be84-4bb843cb73a2",
   "metadata": {},
   "outputs": [
    {
     "data": {
      "text/plain": [
       "array([1000, 1000, 1001, 1001, 1001, 1000, 1001, 1001, 1001, 1000, 1002,\n",
       "       1000, 1000, 1001, 1001, 1001, 1000, 1001, 1001, 1001, 1000, 1000,\n",
       "       1002, 1000, 1001, 1000, 1002, 1000, 1001, 1001, 1001, 1000, 1000,\n",
       "       1002, 1000, 1001, 1000, 1002, 1000, 1001, 1000, 1002, 1000, 1000,\n",
       "       1001, 1001, 1001, 1000, 1001, 1001, 1001, 1000, 1001, 1001, 1000,\n",
       "       1001, 1000, 1002, 1000, 1001, 1000, 1002, 1000, 1001, 1001, 1000,\n",
       "       1001, 1000, 1002, 1000, 1001, 1000, 1002, 1000, 1001, 1000, 1001,\n",
       "       1001, 1000, 1001, 1001, 1001, 1000, 1001, 1001, 1001, 1000, 1001,\n",
       "       1001, 1000, 1001, 1001, 1001, 1000, 1001, 1001, 1001, 1000, 1000,\n",
       "       1002, 1000, 1001, 1000, 1002, 1000, 1001, 1000, 1002, 1000, 1000,\n",
       "       1002, 1000, 1001, 1000, 1002, 1000, 1001, 1000, 1002, 1000, 1000,\n",
       "       1001, 1001, 1001, 1000, 1001, 1001, 1001, 1000, 1001, 1001, 1000,\n",
       "       1001, 1001, 1001, 1000, 1001, 1001, 1001, 1000, 1001, 1001, 1000,\n",
       "       1001, 1000, 1002, 1000, 1001, 1000, 1002, 1000, 1001, 1000, 1001,\n",
       "       1001, 1000, 1002, 1000, 1001, 1000, 1002, 1000, 1001, 1000],\n",
       "      dtype=uint64)"
      ]
     },
     "execution_count": 310,
     "metadata": {},
     "output_type": "execute_result"
    }
   ],
   "source": [
    "np.diff(arduino_ttl)"
   ]
  },
  {
   "cell_type": "code",
   "execution_count": 311,
   "id": "4862f39c-fb85-4541-b5a9-f15cf5749ba4",
   "metadata": {},
   "outputs": [
    {
     "data": {
      "text/plain": [
       "array([ 191984,  191992,  191980,  191988,  191983,  191988,  191989,\n",
       "        191985,  191992,  191984,  191985,  191985,  191990,  191985,\n",
       "        191989,  191986,  191987,  191984,  191989,  191987,  191987,\n",
       "        191986,  191984,  191990,  191987,  191988,  191987,  191985,\n",
       "        191984,  191991,  191985,  191990,  191985,  191985,  191985,\n",
       "        191988,  191987,  191986,  191984,  191990,  191987,  191985,\n",
       "        191989,  191984,  191987,  191989,  191986,  191987,  191987,\n",
       "        191987,  191986,  191987,  191984,  191986,  191991,  191988,\n",
       "        191985,  191986,  191988,  191986,  191987,  191986,  191986,\n",
       "        191988,  191986,  191985,  191990,  191985,  191990,  191984,\n",
       "        191985,  191992,  191984,  191986,  191988,  191987,  191983,\n",
       "        191989,  191987,  191984,  191992,  191984,  191986,  191987,\n",
       "        191987,  191985,  191990,  191985,  191988,  191986,  191987,\n",
       "        191984,  191988,  191988,  191987,  191988,  191985,  191985,\n",
       "        191990, 2111986,  191987,  191987,  191986,  191986,  191986,\n",
       "        191988,  191985,  191986,  191989,  191987,  191986,  191988,\n",
       "       6914175,  191984,  191989,  191986,  191988,  191986,  191988,\n",
       "        191985,  191987,  191985,  191986,  191990,  191990,  191983,\n",
       "        191987,  191985,  191986,  191989,  191986,  191987,  191988,\n",
       "        191988,  191986,  191986,  191984,  191990,  191986,  191985,\n",
       "        191987,  191988,  191987,  191986,  191987,  191985,  191990,\n",
       "        191986,  191987,  191987,  191986,  191984,  191990,  191986,\n",
       "        191985,  191989,  191986,  191985,  191988,  191987,  191984,\n",
       "        191987,  191989,  191993], dtype=uint64)"
      ]
     },
     "execution_count": 311,
     "metadata": {},
     "output_type": "execute_result"
    }
   ],
   "source": [
    "np.diff(motu_ttl)"
   ]
  },
  {
   "cell_type": "code",
   "execution_count": 312,
   "id": "4d6de92f-d127-45fa-888e-c0b449c36dbd",
   "metadata": {},
   "outputs": [
    {
     "data": {
      "text/plain": [
       "191987.0"
      ]
     },
     "execution_count": 312,
     "metadata": {},
     "output_type": "execute_result"
    }
   ],
   "source": [
    "np.median(np.diff(motu_ttl))"
   ]
  },
  {
   "cell_type": "code",
   "execution_count": 313,
   "id": "234a11f7-9200-433d-a6b9-c65009f5f887",
   "metadata": {},
   "outputs": [
    {
     "data": {
      "text/plain": [
       "0.9999322916666666"
      ]
     },
     "execution_count": 313,
     "metadata": {},
     "output_type": "execute_result"
    }
   ],
   "source": [
    "191987/192000"
   ]
  },
  {
   "cell_type": "markdown",
   "id": "44d9b629-2c68-4e3c-8836-aadd609d0ddb",
   "metadata": {},
   "source": [
    "# Camera Data"
   ]
  },
  {
   "cell_type": "code",
   "execution_count": 135,
   "id": "22998809-df7e-48fb-bad4-a963eb1b38c1",
   "metadata": {},
   "outputs": [
    {
     "name": "stdout",
     "output_type": "stream",
     "text": [
      "bottom\n",
      "8250\n",
      "front\n",
      "4668\n",
      "top\n",
      "8250\n"
     ]
    }
   ],
   "source": [
    "for dir in os.listdir(cameras_path):\n",
    "    for f in os.listdir(os.path.join(cameras_path, dir)):\n",
    "        fpath = os.path.join(cameras_path,dir,f)\n",
    "        cname = dir\n",
    "        print(cname)\n",
    "        cap = cv2.VideoCapture(fpath)\n",
    "        total_frames = int(cap.get(cv2.CAP_PROP_FRAME_COUNT))\n",
    "        print(total_frames)\n",
    "        cap.release()\n",
    "        cv2.destroyAllWindows()\n"
   ]
  },
  {
   "cell_type": "markdown",
   "id": "ea7b861d-5994-4f4a-8d3a-d0bdff0902a0",
   "metadata": {},
   "source": [
    "# Ephys Data"
   ]
  },
  {
   "cell_type": "code",
   "execution_count": 245,
   "id": "b7ad6740-63ce-4cd1-942d-b8c7bfee8253",
   "metadata": {},
   "outputs": [
    {
     "data": {
      "text/plain": [
       "'../data/raw/b151/sync_test_211101\\\\ephys\\\\logger_13\\\\extracted_data\\\\00000_20211101_EVENTS.mat'"
      ]
     },
     "execution_count": 245,
     "metadata": {},
     "output_type": "execute_result"
    }
   ],
   "source": [
    "os.path.join(extracted_ephys_path, '00000_20211101_EVENTS.mat')"
   ]
  },
  {
   "cell_type": "code",
   "execution_count": 284,
   "id": "8f43ac9e-5110-4fad-a101-f82404ba6e4a",
   "metadata": {},
   "outputs": [],
   "source": [
    "f = scipy.io.loadmat(os.path.join(extracted_ephys_path, '00000_20211101_EVENTS.mat'))\n",
    "ephys_ttl_ts = np.array(f['event_timestamps_usec'])\n",
    "event_details = f['event_types_and_details']\n",
    "ephys_ttl_us = []\n",
    "for i in range(len(event_details)):\n",
    "    event = event_details[i][0][0]\n",
    "    if('Digital in rising edge on pin number 4' in event):\n",
    "        ephys_ttl_us.append(ephys_ttl_ts[i])\n",
    "ephys_ttl_us = np.array(ephys_ttl_us)"
   ]
  },
  {
   "cell_type": "code",
   "execution_count": 287,
   "id": "28bac477-494a-49ba-9ffc-ba74402fc7fc",
   "metadata": {},
   "outputs": [
    {
     "data": {
      "text/plain": [
       "165"
      ]
     },
     "execution_count": 287,
     "metadata": {},
     "output_type": "execute_result"
    }
   ],
   "source": [
    "ephys_ttl_us.shape[0]*3"
   ]
  },
  {
   "cell_type": "markdown",
   "id": "8e8facd7-9e06-4dea-9cf9-dd9a20a1d613",
   "metadata": {},
   "source": [
    "# Event timing sync"
   ]
  },
  {
   "cell_type": "code",
   "execution_count": 213,
   "id": "aad9b9ad-872d-4cc8-9abb-3d55a1451d03",
   "metadata": {},
   "outputs": [
    {
     "data": {
      "text/plain": [
       "<matplotlib.collections.PathCollection at 0x25725bb29a0>"
      ]
     },
     "execution_count": 213,
     "metadata": {},
     "output_type": "execute_result"
    },
    {
     "data": {
      "image/png": "[encoded data removed]",
      "text/plain": [
       "<Figure size 432x288 with 1 Axes>"
      ]
     },
     "metadata": {
      "needs_background": "light"
     },
     "output_type": "display_data"
    }
   ],
   "source": [
    "plt.plot(np.arange(len(motu_data[2,motu_first_ttl_index:]))/192, np.abs(motu_data[2,motu_first_ttl_index:]))"
   ]
  },
  {
   "cell_type": "code",
   "execution_count": 229,
   "id": "a6bdbb3d-bdf8-45b8-b50b-0ad6885be0d7",
   "metadata": {},
   "outputs": [
    {
     "name": "stdout",
     "output_type": "stream",
     "text": [
      "[26487 40823 60823]\n",
      "['READY', 'STIM', 'OPEN']\n"
     ]
    }
   ],
   "source": [
    "state_mapping = {'RESET':0, 'READY':4, 'STIM':3, 'OPEN':2, 'REW':1}\n",
    "print(arduino_state_ms)\n",
    "print(state_name)"
   ]
  },
  {
   "cell_type": "code",
   "execution_count": 372,
   "id": "cb34d0c9-4ba4-4cb2-af65-639dc21f8a3e",
   "metadata": {},
   "outputs": [],
   "source": [
    "arduino_event_ds = [0]*26487+[4]*(40823-26487)+[3]*(60823-40823)+[2]*int(arduino_ttl[-1]-60823)"
   ]
  },
  {
   "cell_type": "code",
   "execution_count": 235,
   "id": "d41fd776-8394-4662-8876-d5b39da5330b",
   "metadata": {},
   "outputs": [
    {
     "data": {
      "text/plain": [
       "[<matplotlib.lines.Line2D at 0x258b0c88370>]"
      ]
     },
     "execution_count": 235,
     "metadata": {},
     "output_type": "execute_result"
    },
    {
     "data": {
      "image/png": "[encoded data removed]",
      "text/plain": [
       "<Figure size 432x288 with 1 Axes>"
      ]
     },
     "metadata": {
      "needs_background": "light"
     },
     "output_type": "display_data"
    }
   ],
   "source": [
    "plt.plot([0]*26487+[4]*(40823-26487)+[3]*(60823-40823)+[2]*int(arduino_ttl[-1]-60823))\n",
    "plt.plot(np.arange(len(motu_data[2,motu_first_ttl_index:]))/192, np.abs(motu_data[2,motu_first_ttl_index:])*4)"
   ]
  },
  {
   "cell_type": "code",
   "execution_count": 217,
   "id": "4c7d5683-8dd6-4590-bed8-ee2736887795",
   "metadata": {},
   "outputs": [
    {
     "data": {
      "text/plain": [
       "[<matplotlib.lines.Line2D at 0x255f4fdb5b0>]"
      ]
     },
     "execution_count": 217,
     "metadata": {},
     "output_type": "execute_result"
    },
    {
     "data": {
      "image/png": "[encoded data removed]",
      "text/plain": [
       "<Figure size 432x288 with 1 Axes>"
      ]
     },
     "metadata": {
      "needs_background": "light"
     },
     "output_type": "display_data"
    }
   ],
   "source": [
    "plt.plot(arduino_state_transition_diagram)"
   ]
  },
  {
   "cell_type": "code",
   "execution_count": 410,
   "id": "9af2995f-9c03-4dde-a799-cfec41f25451",
   "metadata": {},
   "outputs": [],
   "source": [
    "motu_event_ds = motu_data[2, motu_first_ttl_index:motu_last_ttl_index][::80] # downsample 80 times\n",
    "motu_delta_t = (192000/80)/(50) # 48 steps per camera frame (50fps)"
   ]
  },
  {
   "cell_type": "code",
   "execution_count": 375,
   "id": "a47b8cd8-c0a5-4915-aeeb-e87c76d40899",
   "metadata": {},
   "outputs": [],
   "source": [
    "arduino_delta_t = 20 # Arduino event ts is at 1000 hz, 20 steps per camera frame (50 fps)"
   ]
  },
  {
   "cell_type": "code",
   "execution_count": 411,
   "id": "079ddcd6-6dc1-44e2-aa1c-3b620d4171af",
   "metadata": {},
   "outputs": [
    {
     "data": {
      "text/plain": [
       "[<matplotlib.lines.Line2D at 0x266349582b0>]"
      ]
     },
     "execution_count": 411,
     "metadata": {},
     "output_type": "execute_result"
    },
    {
     "data": {
      "image/png": "[encoded data removed]",
      "text/plain": [
       "<Figure size 432x288 with 1 Axes>"
      ]
     },
     "metadata": {
      "needs_background": "light"
     },
     "output_type": "display_data"
    }
   ],
   "source": [
    "plt.plot(motu_event_ds)"
   ]
  },
  {
   "cell_type": "code",
   "execution_count": 463,
   "id": "54ffd6ba-0ecd-456e-a9f5-7abdde611bee",
   "metadata": {},
   "outputs": [
    {
     "data": {
      "text/plain": [
       "array([ 65323,  66323,  67323,  68324,  69325,  70326,  71326,  72327,\n",
       "        73328,  74329,  75329,  76331,  77331,  78331,  79332,  80333,\n",
       "        81334,  82334,  83335,  84336,  85337,  86337,  87337,  88339,\n",
       "        89339,  90340,  91340,  92342,  93342,  94343,  95344,  96345,\n",
       "        97345,  98345,  99347, 100347, 101348, 102348, 103350, 104350,\n",
       "       105351, 106351, 107353, 108353, 109353, 110354, 111355, 112356,\n",
       "       113356, 114357, 115358, 116359, 117359, 118360, 119361, 120361,\n",
       "       121362, 122362, 123364, 124364, 125365, 126365, 127367, 128367,\n",
       "       129368, 130369, 131369, 132370, 133370, 134372, 135372, 136373,\n",
       "       137373, 138375, 139375, 140376, 141376, 142377, 143378, 144378,\n",
       "       145379, 146380, 147381, 148381, 149382, 150383, 151384, 152384,\n",
       "       153385, 154386, 155386, 156387, 157388, 158389, 159389, 160390,\n",
       "       161391, 162392, 163392, 164392, 165394, 166394, 167395, 168395,\n",
       "       169397, 170397, 171398, 172398, 173400, 174400, 175400, 176402,\n",
       "       177402, 178403, 179403, 180405, 181405, 182406, 183406, 184408,\n",
       "       185408, 186408, 187409, 188410, 189411, 190411, 191412, 192413,\n",
       "       193414, 194414, 195415, 196416, 197416, 198417, 199418, 200419,\n",
       "       201419, 202420, 203421, 204422, 205422, 206423, 207424, 208424,\n",
       "       209425, 210425, 211427, 212427, 213428, 214428, 215430, 216430,\n",
       "       217431, 218431, 219432, 220433, 221433, 222435, 223435, 224436,\n",
       "       225436, 226438, 227438, 228439, 229439], dtype=uint64)"
      ]
     },
     "execution_count": 463,
     "metadata": {},
     "output_type": "execute_result"
    }
   ],
   "source": [
    "arduino_ttl+65323"
   ]
  },
  {
   "cell_type": "code",
   "execution_count": 413,
   "id": "bc664e97-9b7b-4820-83f6-9e7361b17f07",
   "metadata": {},
   "outputs": [
    {
     "data": {
      "text/plain": [
       "393573"
      ]
     },
     "execution_count": 413,
     "metadata": {},
     "output_type": "execute_result"
    }
   ],
   "source": [
    "len(motu_event_ds)"
   ]
  },
  {
   "cell_type": "code",
   "execution_count": 414,
   "id": "7a6b8c9c-f31e-475e-8c3d-5d0597dc74f3",
   "metadata": {},
   "outputs": [
    {
     "data": {
      "text/plain": [
       "164116"
      ]
     },
     "execution_count": 414,
     "metadata": {},
     "output_type": "execute_result"
    }
   ],
   "source": [
    "len(arduino_event_ds)"
   ]
  },
  {
   "cell_type": "code",
   "execution_count": 487,
   "id": "5ae5265e-e9df-4420-a6f4-f4a28d01b0f5",
   "metadata": {},
   "outputs": [
    {
     "data": {
      "text/plain": [
       "{'bottom': '../data/raw/b151/sync_test_211101\\\\cameras\\\\bottom\\\\Basler_acA2040-55um__23584894__20211101_191755157.mp4',\n",
       " 'front': '../data/raw/b151/sync_test_211101\\\\cameras\\\\front\\\\Basler_acA800-510um__23521662__20211101_191752701.mp4',\n",
       " 'top': '../data/raw/b151/sync_test_211101\\\\cameras\\\\top\\\\Basler_acA800-510um__23521660__20211101_191753967.mp4'}"
      ]
     },
     "execution_count": 487,
     "metadata": {},
     "output_type": "execute_result"
    }
   ],
   "source": [
    "camera_paths = {}\n",
    "for dir in os.listdir(cameras_path)[:]:\n",
    "    for f in os.listdir(os.path.join(cameras_path, dir))[:]:\n",
    "        fpath = os.path.join(cameras_path,dir,f)\n",
    "        camera_paths[dir] = fpath\n",
    "camera_paths"
   ]
  },
  {
   "cell_type": "code",
   "execution_count": 492,
   "id": "0e36cafb-a439-4021-95db-be8448725192",
   "metadata": {
    "tags": []
   },
   "outputs": [
    {
     "name": "stdout",
     "output_type": "stream",
     "text": [
      "bottom\n"
     ]
    }
   ],
   "source": [
    "for dir in os.listdir(cameras_path)[:1]:\n",
    "    for f in os.listdir(os.path.join(cameras_path, dir))[:1]:\n",
    "        fpath = os.path.join(cameras_path,dir,f)\n",
    "        cname = dir\n",
    "        print(cname)\n",
    "        cap_bot = cv2.VideoCapture(camera_paths['bottom'])\n",
    "        total_frames = int(cap_bot.get(cv2.CAP_PROP_FRAME_COUNT))\n",
    "        \n",
    "        cap_top = cv2.VideoCapture(camera_paths['top'])\n",
    "        \n",
    "        \n",
    "        for i in range(4500):\n",
    "            ret, frame_bot = cap_bot.read()\n",
    "            ret, frame_top = cap_top.read()\n",
    "            if(i%10 == 0):\n",
    "                #fig, axs = plt.subplots(2,2, gridspec_kw={'width_ratios': [1, 1], 'height_ratios':[5,1]})\n",
    "                fig = plt.figure(figsize=(8, 4))\n",
    "                ax1 = plt.subplot(3,3,3)\n",
    "                ax2 = plt.subplot(3,3,6,sharex=ax1)\n",
    "                ax3 = plt.subplot(3,3,9)\n",
    "                #ax4 = plt.subplot(2,3,6)\n",
    "                ax5 = plt.subplot(1,3,1)\n",
    "                ax6 = plt.subplot(1,3,2)\n",
    "\n",
    "                ax5.imshow(frame_bot)\n",
    "                ax5.axis('off')\n",
    "                \n",
    "                ax6.imshow(frame_top)\n",
    "                ax6.axis('off')\n",
    "\n",
    "                ax1.plot(np.arange(len(motu_event_ds))/2.4, motu_event_ds)\n",
    "                ax1.axis('off')\n",
    "                ax1.axvline(i*motu_delta_t/2.4, -1,1, color='red')\n",
    "\n",
    "\n",
    "                ax2.plot(np.arange(len(arduino_event_ds)), arduino_event_ds)\n",
    "                ax2.axvline(i*arduino_delta_t, -1,5, color='red')\n",
    "                ax2.axis('off')\n",
    "\n",
    "                #ax3.text(100,100,'sdfs')\n",
    "                ax3.text(0.5, 0.5, 'Camera Frame: {}'.format(i+1), horizontalalignment='center', verticalalignment='center', transform=ax3.transAxes, fontsize='large')\n",
    "                ax3.axis('off')\n",
    "                plt.tight_layout()\n",
    "                #plt.show()\n",
    "                \n",
    "            \n",
    "                plt.savefig(folder + \"/file%04d.png\" % int(i/10), dpi=100)\n",
    "                #plt.show()\n",
    "                plt.close(fig)\n",
    "        \n",
    "        cap.release()\n",
    "        cv2.destroyAllWindows()\n",
    "            #break"
   ]
  },
  {
   "cell_type": "code",
   "execution_count": 479,
   "id": "4d3438dd-876d-4ce6-a737-fb79f15eb10f",
   "metadata": {},
   "outputs": [
    {
     "data": {
      "text/plain": [
       "0"
      ]
     },
     "execution_count": 479,
     "metadata": {},
     "output_type": "execute_result"
    }
   ],
   "source": [
    "folder = './test'\n",
    "subprocess.call([\n",
    "    'ffmpeg', '-framerate', '5', '-i', '{}/file%02d.png'.format(folder), '-r', '30', '-pix_fmt', 'yuv420p',\n",
    "    'video_name.mp4'\n",
    "])\n",
    "        #for file_name in glob.glob(\"{}/*.png\".format(folder)):\n",
    "        #    os.remove(file_name)"
   ]
  },
  {
   "cell_type": "code",
   "execution_count": 464,
   "id": "7e5d4a50-81ba-4356-b501-7f3bf292c0a4",
   "metadata": {},
   "outputs": [
    {
     "data": {
      "text/plain": [
       "1400"
      ]
     },
     "execution_count": 464,
     "metadata": {},
     "output_type": "execute_result"
    }
   ],
   "source": [
    "28*50"
   ]
  },
  {
   "cell_type": "code",
   "execution_count": 465,
   "id": "cc090828-6ee3-45ef-bba8-219be8b65f9c",
   "metadata": {},
   "outputs": [
    {
     "data": {
      "text/plain": [
       "67200.0"
      ]
     },
     "execution_count": 465,
     "metadata": {},
     "output_type": "execute_result"
    }
   ],
   "source": [
    "1400*motu_delta_t"
   ]
  },
  {
   "cell_type": "code",
   "execution_count": 474,
   "id": "4403af21-b2e0-422f-94ae-5b3d44d20a21",
   "metadata": {},
   "outputs": [
    {
     "data": {
      "text/plain": [
       "[<matplotlib.lines.Line2D at 0x26366f74460>]"
      ]
     },
     "execution_count": 474,
     "metadata": {},
     "output_type": "execute_result"
    },
    {
     "data": {
      "image/png": "[encoded data removed]",
      "text/plain": [
       "<Figure size 432x288 with 1 Axes>"
      ]
     },
     "metadata": {
      "needs_background": "light"
     },
     "output_type": "display_data"
    }
   ],
   "source": [
    "plt.plot(motu_event_ds)"
   ]
  },
  {
   "cell_type": "code",
   "execution_count": 467,
   "id": "8d18153e-ca35-4c99-ab98-da3e0c3b3a16",
   "metadata": {},
   "outputs": [
    {
     "data": {
      "text/plain": [
       "28000"
      ]
     },
     "execution_count": 467,
     "metadata": {},
     "output_type": "execute_result"
    }
   ],
   "source": [
    "1400*arduino_delta_t"
   ]
  },
  {
   "cell_type": "code",
   "execution_count": 475,
   "id": "5673769b-d0e2-4d84-8d12-bfff2da9b47b",
   "metadata": {},
   "outputs": [
    {
     "data": {
      "text/plain": [
       "[<matplotlib.lines.Line2D at 0x26366f28340>]"
      ]
     },
     "execution_count": 475,
     "metadata": {},
     "output_type": "execute_result"
    },
    {
     "data": {
      "image/png": "[encoded data removed]",
      "text/plain": [
       "<Figure size 432x288 with 1 Axes>"
      ]
     },
     "metadata": {
      "needs_background": "light"
     },
     "output_type": "display_data"
    }
   ],
   "source": [
    "plt.plot(arduino_event_ds)"
   ]
  },
  {
   "cell_type": "code",
   "execution_count": null,
   "id": "c64d12b9-576f-463a-b7b9-30c96beddf12",
   "metadata": {},
   "outputs": [],
   "source": []
  }
 ],
 "metadata": {
  "kernelspec": {
   "display_name": "Python 3 (ipykernel)",
   "language": "python",
   "name": "python3"
  },
  "language_info": {
   "codemirror_mode": {
    "name": "ipython",
    "version": 3
   },
   "file_extension": ".py",
   "mimetype": "text/x-python",
   "name": "python",
   "nbconvert_exporter": "python",
   "pygments_lexer": "ipython3",
   "version": "3.9.7"
  }
 },
 "nbformat": 4,
 "nbformat_minor": 5
}
